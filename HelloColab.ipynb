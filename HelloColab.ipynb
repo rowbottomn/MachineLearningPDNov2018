{
  "nbformat": 4,
  "nbformat_minor": 0,
  "metadata": {
    "colab": {
      "name": "HelloColab.ipynb",
      "version": "0.3.2",
      "provenance": [],
      "include_colab_link": true
    }
  },
  "cells": [
    {
      "cell_type": "markdown",
      "metadata": {
        "id": "view-in-github",
        "colab_type": "text"
      },
      "source": [
        "<a href=\"https://colab.research.google.com/github/rowbottomn/MachineLearningPDNov2018/blob/master/HelloColab.ipynb\" target=\"_parent\"><img src=\"https://colab.research.google.com/assets/colab-badge.svg\" alt=\"Open In Colab\"/></a>"
      ]
    },
    {
      "metadata": {
        "id": "35LHIf93Mj2p",
        "colab_type": "text"
      },
      "cell_type": "markdown",
      "source": [
        "A text cell can be used for comments or other items of interest\n"
      ]
    },
    {
      "metadata": {
        "id": "hvLJsUghMSdK",
        "colab_type": "code",
        "outputId": "0e562e47-c382-49b5-eb6d-227dad935853",
        "colab": {
          "base_uri": "https://localhost:8080/",
          "height": 35
        }
      },
      "cell_type": "code",
      "source": [
        "print \"Hello World\""
      ],
      "execution_count": 0,
      "outputs": [
        {
          "output_type": "stream",
          "text": [
            "Hello World\n"
          ],
          "name": "stdout"
        }
      ]
    },
    {
      "metadata": {
        "id": "iJvOIDDkMumY",
        "colab_type": "code",
        "outputId": "d4e364b0-d248-4a24-f402-11800c9e0a23",
        "colab": {
          "base_uri": "https://localhost:8080/",
          "height": 35
        }
      },
      "cell_type": "code",
      "source": [
        "print \"I guess I can run the code separately?\""
      ],
      "execution_count": 0,
      "outputs": [
        {
          "output_type": "stream",
          "text": [
            "I guess I can run the code separately?\n"
          ],
          "name": "stdout"
        }
      ]
    },
    {
      "metadata": {
        "id": "DVVwIReFeJ0c",
        "colab_type": "text"
      },
      "cell_type": "markdown",
      "source": [
        "I guess this means that multiple people can co-code like with Google Docs."
      ]
    },
    {
      "metadata": {
        "id": "R5tk3v0neqvN",
        "colab_type": "text"
      },
      "cell_type": "markdown",
      "source": [
        "---\n",
        "Try CNTL ALT N to see how easy it is to just try out some sample code"
      ]
    }
  ]
}